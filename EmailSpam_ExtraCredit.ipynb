{
 "cells": [
  {
   "cell_type": "code",
   "execution_count": 63,
   "metadata": {},
   "outputs": [],
   "source": [
    "import numpy as np\n",
    "import pandas as pd\n",
    "import math"
   ]
  },
  {
   "cell_type": "code",
   "execution_count": 68,
   "metadata": {},
   "outputs": [],
   "source": [
    "#Decision-treee classifier\n",
    "def dec_tree(dollar_ratio,exclaimation_ratio):\n",
    "    if (dollar_ratio<=0.0555):\n",
    "        if(exclaimation_ratio<=0.0735):\n",
    "            print(\"This is unlikely a spam\")\n",
    "        else:\n",
    "            if(exclaimation_ratio<=0.2665):\n",
    "                if(exclaimation_ratio<=0.0985):\n",
    "                    print(\"This is likely a spam\")\n",
    "                else:\n",
    "                    print(\"This is unlikely a spam\")            \n",
    "            else:\n",
    "                print(\"This is likely a spam\")          \n",
    "    else:\n",
    "        if(exclaimation_ratio<=0.0615):\n",
    "            if(exclaimation_ratio<=0.1665):\n",
    "                print(\"This is unlikely a spam\")\n",
    "            else:\n",
    "                print(\"This is likely a spam\")\n",
    "        else:\n",
    "            print(\"This is likely a spam\")"
   ]
  },
  {
   "cell_type": "code",
   "execution_count": 69,
   "metadata": {},
   "outputs": [],
   "source": [
    "# 1.Taking email as an input\n",
    "# 2. counting emails length excluding white-spaces & double quotes \n",
    "# 3. Calculating relative frequencies\n",
    "def check_spam(email):\n",
    "    length=len(email)-email.count(' ')\n",
    "    exc=0\n",
    "    dollar_ratio=0\n",
    "    dollar=0\n",
    "    exclaimation_ratio=0\n",
    "    for i in email:\n",
    "        if (i=='!'):\n",
    "            exc+=1\n",
    "        if (i=='$'):\n",
    "            dollar+=1\n",
    "    dollar_ratio=dollar/length\n",
    "    exclaimation_ratio=exc/length\n",
    "    dec_tree(dollar_ratio,exclaimation_ratio)"
   ]
  },
  {
   "cell_type": "code",
   "execution_count": 70,
   "metadata": {},
   "outputs": [
    {
     "name": "stdout",
     "output_type": "stream",
     "text": [
      "This is likely a spam\n"
     ]
    }
   ],
   "source": [
    "check_spam(\"Send money anytime! $300 or $400 should be fine!!!\")"
   ]
  },
  {
   "cell_type": "code",
   "execution_count": 71,
   "metadata": {},
   "outputs": [
    {
     "name": "stdout",
     "output_type": "stream",
     "text": [
      "This is unlikely a spam\n"
     ]
    }
   ],
   "source": [
    "check_spam(\"We did it again! When would you come up with $2,000?\")"
   ]
  },
  {
   "cell_type": "code",
   "execution_count": null,
   "metadata": {},
   "outputs": [],
   "source": []
  },
  {
   "cell_type": "code",
   "execution_count": null,
   "metadata": {},
   "outputs": [],
   "source": []
  }
 ],
 "metadata": {
  "kernelspec": {
   "display_name": "Python 3",
   "language": "python",
   "name": "python3"
  },
  "language_info": {
   "codemirror_mode": {
    "name": "ipython",
    "version": 3
   },
   "file_extension": ".py",
   "mimetype": "text/x-python",
   "name": "python",
   "nbconvert_exporter": "python",
   "pygments_lexer": "ipython3",
   "version": "3.6.3"
  }
 },
 "nbformat": 4,
 "nbformat_minor": 2
}
